{
 "cells": [
  {
   "cell_type": "code",
   "execution_count": 134,
   "metadata": {},
   "outputs": [],
   "source": [
    "# Yapay sinir ağları\n",
    "\n",
    "import numpy as np\n",
    "import pandas as pd \n",
    "import seaborn as sns\n",
    "import matplotlib.pyplot as plt\n",
    "\n",
    "import warnings\n",
    "warnings.filterwarnings('ignore')\n",
    "\n",
    "# test eğitim ve bölünmesi \n",
    "from sklearn.model_selection import train_test_split"
   ]
  },
  {
   "cell_type": "code",
   "execution_count": 135,
   "metadata": {},
   "outputs": [
    {
     "name": "stdout",
     "output_type": "stream",
     "text": [
      "verinin boyutu:  (42000, 785)\n"
     ]
    },
    {
     "data": {
      "text/html": [
       "<div>\n",
       "<style scoped>\n",
       "    .dataframe tbody tr th:only-of-type {\n",
       "        vertical-align: middle;\n",
       "    }\n",
       "\n",
       "    .dataframe tbody tr th {\n",
       "        vertical-align: top;\n",
       "    }\n",
       "\n",
       "    .dataframe thead th {\n",
       "        text-align: right;\n",
       "    }\n",
       "</style>\n",
       "<table border=\"1\" class=\"dataframe\">\n",
       "  <thead>\n",
       "    <tr style=\"text-align: right;\">\n",
       "      <th></th>\n",
       "      <th>label</th>\n",
       "      <th>pixel0</th>\n",
       "      <th>pixel1</th>\n",
       "      <th>pixel2</th>\n",
       "      <th>pixel3</th>\n",
       "      <th>pixel4</th>\n",
       "      <th>pixel5</th>\n",
       "      <th>pixel6</th>\n",
       "      <th>pixel7</th>\n",
       "      <th>pixel8</th>\n",
       "      <th>...</th>\n",
       "      <th>pixel774</th>\n",
       "      <th>pixel775</th>\n",
       "      <th>pixel776</th>\n",
       "      <th>pixel777</th>\n",
       "      <th>pixel778</th>\n",
       "      <th>pixel779</th>\n",
       "      <th>pixel780</th>\n",
       "      <th>pixel781</th>\n",
       "      <th>pixel782</th>\n",
       "      <th>pixel783</th>\n",
       "    </tr>\n",
       "  </thead>\n",
       "  <tbody>\n",
       "    <tr>\n",
       "      <th>0</th>\n",
       "      <td>1</td>\n",
       "      <td>0</td>\n",
       "      <td>0</td>\n",
       "      <td>0</td>\n",
       "      <td>0</td>\n",
       "      <td>0</td>\n",
       "      <td>0</td>\n",
       "      <td>0</td>\n",
       "      <td>0</td>\n",
       "      <td>0</td>\n",
       "      <td>...</td>\n",
       "      <td>0</td>\n",
       "      <td>0</td>\n",
       "      <td>0</td>\n",
       "      <td>0</td>\n",
       "      <td>0</td>\n",
       "      <td>0</td>\n",
       "      <td>0</td>\n",
       "      <td>0</td>\n",
       "      <td>0</td>\n",
       "      <td>0</td>\n",
       "    </tr>\n",
       "    <tr>\n",
       "      <th>1</th>\n",
       "      <td>0</td>\n",
       "      <td>0</td>\n",
       "      <td>0</td>\n",
       "      <td>0</td>\n",
       "      <td>0</td>\n",
       "      <td>0</td>\n",
       "      <td>0</td>\n",
       "      <td>0</td>\n",
       "      <td>0</td>\n",
       "      <td>0</td>\n",
       "      <td>...</td>\n",
       "      <td>0</td>\n",
       "      <td>0</td>\n",
       "      <td>0</td>\n",
       "      <td>0</td>\n",
       "      <td>0</td>\n",
       "      <td>0</td>\n",
       "      <td>0</td>\n",
       "      <td>0</td>\n",
       "      <td>0</td>\n",
       "      <td>0</td>\n",
       "    </tr>\n",
       "    <tr>\n",
       "      <th>2</th>\n",
       "      <td>1</td>\n",
       "      <td>0</td>\n",
       "      <td>0</td>\n",
       "      <td>0</td>\n",
       "      <td>0</td>\n",
       "      <td>0</td>\n",
       "      <td>0</td>\n",
       "      <td>0</td>\n",
       "      <td>0</td>\n",
       "      <td>0</td>\n",
       "      <td>...</td>\n",
       "      <td>0</td>\n",
       "      <td>0</td>\n",
       "      <td>0</td>\n",
       "      <td>0</td>\n",
       "      <td>0</td>\n",
       "      <td>0</td>\n",
       "      <td>0</td>\n",
       "      <td>0</td>\n",
       "      <td>0</td>\n",
       "      <td>0</td>\n",
       "    </tr>\n",
       "    <tr>\n",
       "      <th>3</th>\n",
       "      <td>4</td>\n",
       "      <td>0</td>\n",
       "      <td>0</td>\n",
       "      <td>0</td>\n",
       "      <td>0</td>\n",
       "      <td>0</td>\n",
       "      <td>0</td>\n",
       "      <td>0</td>\n",
       "      <td>0</td>\n",
       "      <td>0</td>\n",
       "      <td>...</td>\n",
       "      <td>0</td>\n",
       "      <td>0</td>\n",
       "      <td>0</td>\n",
       "      <td>0</td>\n",
       "      <td>0</td>\n",
       "      <td>0</td>\n",
       "      <td>0</td>\n",
       "      <td>0</td>\n",
       "      <td>0</td>\n",
       "      <td>0</td>\n",
       "    </tr>\n",
       "    <tr>\n",
       "      <th>4</th>\n",
       "      <td>0</td>\n",
       "      <td>0</td>\n",
       "      <td>0</td>\n",
       "      <td>0</td>\n",
       "      <td>0</td>\n",
       "      <td>0</td>\n",
       "      <td>0</td>\n",
       "      <td>0</td>\n",
       "      <td>0</td>\n",
       "      <td>0</td>\n",
       "      <td>...</td>\n",
       "      <td>0</td>\n",
       "      <td>0</td>\n",
       "      <td>0</td>\n",
       "      <td>0</td>\n",
       "      <td>0</td>\n",
       "      <td>0</td>\n",
       "      <td>0</td>\n",
       "      <td>0</td>\n",
       "      <td>0</td>\n",
       "      <td>0</td>\n",
       "    </tr>\n",
       "  </tbody>\n",
       "</table>\n",
       "<p>5 rows × 785 columns</p>\n",
       "</div>"
      ],
      "text/plain": [
       "   label  pixel0  pixel1  pixel2  pixel3  pixel4  pixel5  pixel6  pixel7  \\\n",
       "0      1       0       0       0       0       0       0       0       0   \n",
       "1      0       0       0       0       0       0       0       0       0   \n",
       "2      1       0       0       0       0       0       0       0       0   \n",
       "3      4       0       0       0       0       0       0       0       0   \n",
       "4      0       0       0       0       0       0       0       0       0   \n",
       "\n",
       "   pixel8  ...  pixel774  pixel775  pixel776  pixel777  pixel778  pixel779  \\\n",
       "0       0  ...         0         0         0         0         0         0   \n",
       "1       0  ...         0         0         0         0         0         0   \n",
       "2       0  ...         0         0         0         0         0         0   \n",
       "3       0  ...         0         0         0         0         0         0   \n",
       "4       0  ...         0         0         0         0         0         0   \n",
       "\n",
       "   pixel780  pixel781  pixel782  pixel783  \n",
       "0         0         0         0         0  \n",
       "1         0         0         0         0  \n",
       "2         0         0         0         0  \n",
       "3         0         0         0         0  \n",
       "4         0         0         0         0  \n",
       "\n",
       "[5 rows x 785 columns]"
      ]
     },
     "execution_count": 135,
     "metadata": {},
     "output_type": "execute_result"
    }
   ],
   "source": [
    "veri = pd.read_csv(\"../data/data1/mnist.csv\")\n",
    "print(\"verinin boyutu: \", veri.shape)\n",
    "veri.head()"
   ]
  },
  {
   "cell_type": "code",
   "execution_count": 136,
   "metadata": {},
   "outputs": [
    {
     "data": {
      "text/html": [
       "<div>\n",
       "<style scoped>\n",
       "    .dataframe tbody tr th:only-of-type {\n",
       "        vertical-align: middle;\n",
       "    }\n",
       "\n",
       "    .dataframe tbody tr th {\n",
       "        vertical-align: top;\n",
       "    }\n",
       "\n",
       "    .dataframe thead th {\n",
       "        text-align: right;\n",
       "    }\n",
       "</style>\n",
       "<table border=\"1\" class=\"dataframe\">\n",
       "  <thead>\n",
       "    <tr style=\"text-align: right;\">\n",
       "      <th></th>\n",
       "      <th>label</th>\n",
       "      <th>pixel0</th>\n",
       "      <th>pixel1</th>\n",
       "      <th>pixel2</th>\n",
       "      <th>pixel3</th>\n",
       "      <th>pixel4</th>\n",
       "      <th>pixel5</th>\n",
       "      <th>pixel6</th>\n",
       "      <th>pixel7</th>\n",
       "      <th>pixel8</th>\n",
       "      <th>...</th>\n",
       "      <th>pixel774</th>\n",
       "      <th>pixel775</th>\n",
       "      <th>pixel776</th>\n",
       "      <th>pixel777</th>\n",
       "      <th>pixel778</th>\n",
       "      <th>pixel779</th>\n",
       "      <th>pixel780</th>\n",
       "      <th>pixel781</th>\n",
       "      <th>pixel782</th>\n",
       "      <th>pixel783</th>\n",
       "    </tr>\n",
       "  </thead>\n",
       "  <tbody>\n",
       "    <tr>\n",
       "      <th>1</th>\n",
       "      <td>0</td>\n",
       "      <td>0</td>\n",
       "      <td>0</td>\n",
       "      <td>0</td>\n",
       "      <td>0</td>\n",
       "      <td>0</td>\n",
       "      <td>0</td>\n",
       "      <td>0</td>\n",
       "      <td>0</td>\n",
       "      <td>0</td>\n",
       "      <td>...</td>\n",
       "      <td>0</td>\n",
       "      <td>0</td>\n",
       "      <td>0</td>\n",
       "      <td>0</td>\n",
       "      <td>0</td>\n",
       "      <td>0</td>\n",
       "      <td>0</td>\n",
       "      <td>0</td>\n",
       "      <td>0</td>\n",
       "      <td>0</td>\n",
       "    </tr>\n",
       "    <tr>\n",
       "      <th>4</th>\n",
       "      <td>0</td>\n",
       "      <td>0</td>\n",
       "      <td>0</td>\n",
       "      <td>0</td>\n",
       "      <td>0</td>\n",
       "      <td>0</td>\n",
       "      <td>0</td>\n",
       "      <td>0</td>\n",
       "      <td>0</td>\n",
       "      <td>0</td>\n",
       "      <td>...</td>\n",
       "      <td>0</td>\n",
       "      <td>0</td>\n",
       "      <td>0</td>\n",
       "      <td>0</td>\n",
       "      <td>0</td>\n",
       "      <td>0</td>\n",
       "      <td>0</td>\n",
       "      <td>0</td>\n",
       "      <td>0</td>\n",
       "      <td>0</td>\n",
       "    </tr>\n",
       "    <tr>\n",
       "      <th>5</th>\n",
       "      <td>0</td>\n",
       "      <td>0</td>\n",
       "      <td>0</td>\n",
       "      <td>0</td>\n",
       "      <td>0</td>\n",
       "      <td>0</td>\n",
       "      <td>0</td>\n",
       "      <td>0</td>\n",
       "      <td>0</td>\n",
       "      <td>0</td>\n",
       "      <td>...</td>\n",
       "      <td>0</td>\n",
       "      <td>0</td>\n",
       "      <td>0</td>\n",
       "      <td>0</td>\n",
       "      <td>0</td>\n",
       "      <td>0</td>\n",
       "      <td>0</td>\n",
       "      <td>0</td>\n",
       "      <td>0</td>\n",
       "      <td>0</td>\n",
       "    </tr>\n",
       "    <tr>\n",
       "      <th>17</th>\n",
       "      <td>0</td>\n",
       "      <td>0</td>\n",
       "      <td>0</td>\n",
       "      <td>0</td>\n",
       "      <td>0</td>\n",
       "      <td>0</td>\n",
       "      <td>0</td>\n",
       "      <td>0</td>\n",
       "      <td>0</td>\n",
       "      <td>0</td>\n",
       "      <td>...</td>\n",
       "      <td>0</td>\n",
       "      <td>0</td>\n",
       "      <td>0</td>\n",
       "      <td>0</td>\n",
       "      <td>0</td>\n",
       "      <td>0</td>\n",
       "      <td>0</td>\n",
       "      <td>0</td>\n",
       "      <td>0</td>\n",
       "      <td>0</td>\n",
       "    </tr>\n",
       "    <tr>\n",
       "      <th>23</th>\n",
       "      <td>0</td>\n",
       "      <td>0</td>\n",
       "      <td>0</td>\n",
       "      <td>0</td>\n",
       "      <td>0</td>\n",
       "      <td>0</td>\n",
       "      <td>0</td>\n",
       "      <td>0</td>\n",
       "      <td>0</td>\n",
       "      <td>0</td>\n",
       "      <td>...</td>\n",
       "      <td>0</td>\n",
       "      <td>0</td>\n",
       "      <td>0</td>\n",
       "      <td>0</td>\n",
       "      <td>0</td>\n",
       "      <td>0</td>\n",
       "      <td>0</td>\n",
       "      <td>0</td>\n",
       "      <td>0</td>\n",
       "      <td>0</td>\n",
       "    </tr>\n",
       "  </tbody>\n",
       "</table>\n",
       "<p>5 rows × 785 columns</p>\n",
       "</div>"
      ],
      "text/plain": [
       "    label  pixel0  pixel1  pixel2  pixel3  pixel4  pixel5  pixel6  pixel7  \\\n",
       "1       0       0       0       0       0       0       0       0       0   \n",
       "4       0       0       0       0       0       0       0       0       0   \n",
       "5       0       0       0       0       0       0       0       0       0   \n",
       "17      0       0       0       0       0       0       0       0       0   \n",
       "23      0       0       0       0       0       0       0       0       0   \n",
       "\n",
       "    pixel8  ...  pixel774  pixel775  pixel776  pixel777  pixel778  pixel779  \\\n",
       "1        0  ...         0         0         0         0         0         0   \n",
       "4        0  ...         0         0         0         0         0         0   \n",
       "5        0  ...         0         0         0         0         0         0   \n",
       "17       0  ...         0         0         0         0         0         0   \n",
       "23       0  ...         0         0         0         0         0         0   \n",
       "\n",
       "    pixel780  pixel781  pixel782  pixel783  \n",
       "1          0         0         0         0  \n",
       "4          0         0         0         0  \n",
       "5          0         0         0         0  \n",
       "17         0         0         0         0  \n",
       "23         0         0         0         0  \n",
       "\n",
       "[5 rows x 785 columns]"
      ]
     },
     "execution_count": 136,
     "metadata": {},
     "output_type": "execute_result"
    }
   ],
   "source": [
    "# sadece etiketi bir ve sıfır olanları alalım\n",
    "label_filter0 = 0\n",
    "label_filter1 = 1\n",
    "\n",
    "# etiketi sıfır ve bir olanları filtrele ve birleştir\n",
    "\n",
    "veri = pd.concat([veri[veri['label'] == label_filter0], veri[veri['label'] == label_filter1]], axis=0)\n",
    "veri.head()"
   ]
  },
  {
   "cell_type": "code",
   "execution_count": 137,
   "metadata": {},
   "outputs": [
    {
     "name": "stdout",
     "output_type": "stream",
     "text": [
      "X veri: (8816, 784)\n",
      "Y veri: (8816,)\n"
     ]
    }
   ],
   "source": [
    "# label'ları ayıralım\n",
    "Y_veri = veri[\"label\"]\n",
    "\n",
    "# x eğitim veri seti oluşturalım\n",
    "X_veriler = veri.drop([\"label\"], axis=1)\n",
    "print(\"X veri:\", X_veriler.shape)\n",
    "print('Y veri:', Y_veri.shape)"
   ]
  },
  {
   "cell_type": "code",
   "execution_count": 138,
   "metadata": {},
   "outputs": [
    {
     "data": {
      "text/plain": [
       "28"
      ]
     },
     "execution_count": 138,
     "metadata": {},
     "output_type": "execute_result"
    }
   ],
   "source": [
    "# resmin boyutunu kullanacağız \n",
    "resim_boyutu = int(np.sqrt(X_veriler.shape[1]))\n",
    "resim_boyutu"
   ]
  },
  {
   "cell_type": "code",
   "execution_count": 139,
   "metadata": {},
   "outputs": [
    {
     "data": {
      "image/png": "[encoded data removed]",
      "text/plain": [
       "<Figure size 640x480 with 1 Axes>"
      ]
     },
     "metadata": {},
     "output_type": "display_data"
    }
   ],
   "source": [
    "# verimizi görselleştirelim 0 sınıfı\n",
    "resim1 = X_veriler.iloc[900].values\n",
    "resim1 = resim1.reshape((resim_boyutu, resim_boyutu))\n",
    "plt.imshow(resim1, cmap='gray')\n",
    "plt.axis('off')\n",
    "plt.show()"
   ]
  },
  {
   "cell_type": "code",
   "execution_count": 140,
   "metadata": {},
   "outputs": [
    {
     "data": {
      "image/png": "[encoded data removed]",
      "text/plain": [
       "<Figure size 640x480 with 1 Axes>"
      ]
     },
     "metadata": {},
     "output_type": "display_data"
    }
   ],
   "source": [
    "# verimizi görselleştirelim 1 sınıfı\n",
    "resim2 = X_veriler.iloc[8000].values\n",
    "resim2 = resim2.reshape((resim_boyutu, resim_boyutu))\n",
    "plt.imshow(resim2, cmap='gray')\n",
    "plt.axis('off')\n",
    "plt.show()"
   ]
  },
  {
   "cell_type": "code",
   "execution_count": 141,
   "metadata": {},
   "outputs": [
    {
     "name": "stdout",
     "output_type": "stream",
     "text": [
      "X eğitim:  (7493, 784)\n",
      "X test:  (1323, 784)\n"
     ]
    }
   ],
   "source": [
    "# eğitim test bölünmesi\n",
    "\n",
    "X_egitim, X_test, Y_egitim, Y_test = train_test_split(X_veriler, Y_veri, test_size=0.15, random_state=42)\n",
    "print(\"X eğitim: \", X_egitim.shape)\n",
    "print(\"X test: \", X_test.shape)"
   ]
  },
  {
   "cell_type": "code",
   "execution_count": 142,
   "metadata": {},
   "outputs": [
    {
     "name": "stdout",
     "output_type": "stream",
     "text": [
      "x egitim:  (784, 7493)\n",
      "x test:  (784, 1323)\n",
      "y egitim:  (1, 7493)\n",
      "y test:  (1, 1323)\n"
     ]
    }
   ],
   "source": [
    " # girdileri düzeltmek için tersçapraz işlemi\n",
    " x_egitim = X_egitim.T\n",
    " x_test = X_test.T\n",
    " y_egitim = Y_egitim.values.reshape(-1,1).T\n",
    " y_test = Y_test.values.reshape(-1,1).T\n",
    " print(\"x egitim: \", x_egitim.shape)\n",
    " print(\"x test: \", x_test.shape)\n",
    " print(\"y egitim: \", y_egitim.shape)\n",
    " print(\"y test: \", y_test.shape)\n",
    " \n",
    " # T işlemi bir matrisin transpozunu alır, yani satırlarını sütunlara ve sütunları satırlara dönüştürür. Bu işlem, veri manipülasyonunda ve matris işlemlerinde sıkça kulanılır.\n",
    " "
   ]
  },
  {
   "cell_type": "markdown",
   "metadata": {},
   "source": [
    "2 Katmanlı Sinir Ağı\n",
    "* Parametrelerin İlklendirilmesi\n",
    "* İleri Yayılma\n",
    "* Kayıp ve Maliyet Fonksiyonları\n",
    "* Geriye Yayılma\n",
    "* Parametrelerin Güncellenmesi\n",
    "* Tahmin\n",
    "* 2 Katmanlı Sinir Ağı oluşturma"
   ]
  },
  {
   "cell_type": "code",
   "execution_count": 143,
   "metadata": {},
   "outputs": [],
   "source": [
    "# ilklendirme \n",
    "def layerSayisiniParametreleriIlklendir(x_train, y_train):\n",
    "  parameters = {\n",
    "                \"weight1\": np.random.randn(3, x_train.shape[0]) * 0.1,\n",
    "                \"bias1\": np.zeros((3,1)),\n",
    "                \"weight2\": np.random.randn(y_train.shape[0], 3) * 0.1,\n",
    "                \"bias2\": np.zeros((y_train.shape[0], 1))}\n",
    "  return parameters"
   ]
  },
  {
   "cell_type": "code",
   "execution_count": 144,
   "metadata": {},
   "outputs": [
    {
     "data": {
      "text/plain": [
       "0.5"
      ]
     },
     "execution_count": 144,
     "metadata": {},
     "output_type": "execute_result"
    }
   ],
   "source": [
    "# sigmoid\n",
    "def sigmoid(z):\n",
    "  y_head = 1/(1+ np.exp(-z))\n",
    "  return y_head\n",
    "sigmoid(0)"
   ]
  },
  {
   "cell_type": "code",
   "execution_count": 145,
   "metadata": {},
   "outputs": [],
   "source": [
    "def ileriYayilmaNN(x_train, parameters):\n",
    "    Z1 = np.dot(parameters[\"weight1\"], x_train) + parameters[\"bias1\"]\n",
    "    A1 = np.tanh(Z1)\n",
    "    Z2 = np.dot(parameters[\"weight2\"], A1) + parameters[\"bias2\"]\n",
    "    A2 = sigmoid(Z2)\n",
    "  \n",
    "    cache = {\n",
    "        \"Z1\": Z1,\n",
    "        \"A1\": A1,\n",
    "        \"Z2\": Z2,\n",
    "        \"A2\": A2\n",
    "    }\n",
    "  \n",
    "    return A2, cache\n"
   ]
  },
  {
   "cell_type": "code",
   "execution_count": 146,
   "metadata": {},
   "outputs": [],
   "source": [
    "# Kayıp ve Maliyet Fonksiyonları\n",
    "\n",
    "#maliyet hesabı\n",
    "def maliyetHesaplaNN(A2, Y, parameters):\n",
    "  logprobs = np.multiply(np.log(A2), Y)\n",
    "  cost = -np.sum(logprobs)/Y.shape[1]\n",
    "  return cost"
   ]
  },
  {
   "cell_type": "code",
   "execution_count": 147,
   "metadata": {},
   "outputs": [],
   "source": [
    "# Geriye Yayılma\n",
    "def geriyeYayilmaNN(parameters, cache, X,Y):\n",
    "  \n",
    "  dZ2 = cache[\"A2\"]-Y\n",
    "  dW2 = np.dot(dZ2, cache[\"A1\"].T)/X.shape[1]\n",
    "  db2 = np.sum(dZ2, axis=1, keepdims=True) / X.shape[1]\n",
    "  dZ1 = np.dot(parameters[\"weight2\"].T, dZ2)*(1 - np.power(cache[\"A1\"], 2))\n",
    "  dW1 = np.dot(dZ1, X.T) / X.shape[1]\n",
    "  db1 = np.sum(dZ1, axis=1, keepdims=True) / X.shape[1]\n",
    "  grads = {\n",
    "    \"dweight1\" : dW1,\n",
    "    \"dbias1\" : db1,\n",
    "    \"dweight2\": dW2,\n",
    "    \"dbias2\": db2\n",
    "  }\n",
    "  \n",
    "  return grads"
   ]
  },
  {
   "cell_type": "code",
   "execution_count": 148,
   "metadata": {},
   "outputs": [],
   "source": [
    "def parametreGuncelleNN(parameters, grads, learning_rate = 0.01):\n",
    "    parameters = {\n",
    "        \"weight1\": parameters[\"weight1\"] - learning_rate * grads[\"dweight1\"],\n",
    "        \"bias1\": parameters[\"bias1\"] - learning_rate * grads[\"dbias1\"],\n",
    "        \"weight2\": parameters[\"weight2\"] - learning_rate * grads[\"dweight2\"],\n",
    "        \"bias2\": parameters[\"bias2\"] - learning_rate * grads[\"dbias2\"]\n",
    "    }\n",
    "    return parameters\n"
   ]
  },
  {
   "cell_type": "code",
   "execution_count": 149,
   "metadata": {},
   "outputs": [],
   "source": [
    "# tahmin\n",
    "\n",
    "def tahminNN(parameters, x_test):\n",
    "  \n",
    "  #x test ileri yayılma girdisidir.\n",
    "  A2, cache = ileriYayilmaNN(x_test, parameters)\n",
    "  Y_prediction = np.zeros((1, x_test.shape[1]))\n",
    "  \n",
    "  # eğer z 0.5'den büyükse, 1 sınıfına ait resimler\n",
    "  # eğer z 0.5'den güçükse, 0 sınıfına ait resimler\n",
    "  \n",
    "  for i in range(A2.shape[1]):\n",
    "    if A2[0, i] <= 0.5:\n",
    "      Y_prediction[0, i] = 0\n",
    "    else:\n",
    "      Y_prediction[0, i] = 1\n",
    "      \n",
    "  return Y_prediction"
   ]
  },
  {
   "cell_type": "code",
   "execution_count": 150,
   "metadata": {},
   "outputs": [],
   "source": [
    "# 2 Katmanlı Sinir Ağı Oluşturma \n",
    "\n",
    "def ikiKatmanNN(x_train, y_train, x_test, y_test, num_iterations):\n",
    "  cost_list = []\n",
    "  index_list = []\n",
    "  \n",
    "  # ilklendirme \n",
    "  parameters = layerSayisiniParametreleriIlklendir(x_train, y_train)\n",
    "  \n",
    "  for i in range(0,num_iterations):\n",
    "    # ileri yayılım\n",
    "    A2, cache = ileriYayilmaNN(x_train, parameters)\n",
    "    # maliyet hesapla\n",
    "    cost = maliyetHesaplaNN(A2, y_train, parameters)\n",
    "    # geriye yayılım\n",
    "    grads = geriyeYayilmaNN(parameters, cache, x_train, y_train)\n",
    "    # parametreleri güncelle\n",
    "    parameters= parametreGuncelleNN(parameters, grads)\n",
    "    \n",
    "    if i % 100 == 0:\n",
    "      cost_list.append(cost)\n",
    "      index_list.append(i)\n",
    "      print(\"iretrasyon : %i, maliyet %f \" %(i, cost))\n",
    "    \n",
    "    plt.plot(index_list, cost_list)\n",
    "    plt.xticks(index_list, rotation= 'vertical')\n",
    "    plt.xlabel(\"iterasyon sayisi\")\n",
    "    plt.ylabel(\"Maaliyet\")\n",
    "    plt.show()\n",
    "    \n",
    "    # predict \n",
    "    y_prediction_test = tahminNN(parameters, x_test)\n",
    "    y_prediction_train = tahminNN(parameters, x_train)\n",
    "    \n",
    "    # eğitim ve test doğruluğu\n",
    "    \n",
    "    print(\"Eğitim doğruluğu: {} %\".format(100 - np.mean(np.abs(y_prediction_train - y_train)) * 100))\n",
    "    print(\"Test doğruluğu: {} %\".format(100 - np.mean(np.abs(y_prediction_test - y_test)) * 100))\n",
    "    \n",
    "    return parameters  \n",
    "  \n",
    "  parameters =  ikiKatmanNN(x_egitim, y_egitim, x_test, y_test, num_iterations=1000)\n",
    "    "
   ]
  },
  {
   "cell_type": "code",
   "execution_count": 151,
   "metadata": {},
   "outputs": [
    {
     "name": "stdout",
     "output_type": "stream",
     "text": [
      "iterasyon : 0, maliyet 0.363242 \n"
     ]
    },
    {
     "name": "stdout",
     "output_type": "stream",
     "text": [
      "iterasyon : 100, maliyet 0.232281 \n",
      "iterasyon : 200, maliyet 0.122161 \n",
      "iterasyon : 300, maliyet 0.080980 \n",
      "iterasyon : 400, maliyet 0.061311 \n",
      "iterasyon : 500, maliyet 0.050046 \n",
      "iterasyon : 600, maliyet 0.041992 \n",
      "iterasyon : 700, maliyet 0.036872 \n",
      "iterasyon : 800, maliyet 0.033145 \n",
      "iterasyon : 900, maliyet 0.030301 \n"
     ]
    },
    {
     "data": {
      "image/png": "[encoded data removed]",
      "text/plain": [
       "<Figure size 640x480 with 1 Axes>"
      ]
     },
     "metadata": {},
     "output_type": "display_data"
    },
    {
     "name": "stdout",
     "output_type": "stream",
     "text": [
      "Eğitim doğruluğu: 99.07914053116242 %\n",
      "Test doğruluğu: 99.01738473167045 %\n"
     ]
    }
   ],
   "source": [
    "def ikiKatmanNN(x_train, y_train, x_test, y_test, num_iterations):\n",
    "    cost_list = []\n",
    "    index_list = []\n",
    "  \n",
    "    # ilklendirme \n",
    "    parameters = layerSayisiniParametreleriIlklendir(x_train, y_train)\n",
    "  \n",
    "    for i in range(0, num_iterations):\n",
    "        # ileri yayılım\n",
    "        A2, cache = ileriYayilmaNN(x_train, parameters)\n",
    "        # maliyet hesapla\n",
    "        cost = maliyetHesaplaNN(A2, y_train, parameters)\n",
    "        # geriye yayılım\n",
    "        grads = geriyeYayilmaNN(parameters, cache, x_train, y_train)\n",
    "        # parametreleri güncelle\n",
    "        parameters = parametreGuncelleNN(parameters, grads)\n",
    "    \n",
    "        if i % 100 == 0:\n",
    "            cost_list.append(cost)\n",
    "            index_list.append(i)\n",
    "            print(\"iterasyon : %i, maliyet %f \" % (i, cost))\n",
    "    \n",
    "    plt.plot(index_list, cost_list)\n",
    "    plt.xticks(index_list, rotation='vertical')\n",
    "    plt.xlabel(\"iterasyon sayisi\")\n",
    "    plt.ylabel(\"Maliyet\")\n",
    "    plt.show()\n",
    "    \n",
    "    # predict \n",
    "    y_prediction_test = tahminNN(parameters, x_test)\n",
    "    y_prediction_train = tahminNN(parameters, x_train)\n",
    "    \n",
    "    # eğitim ve test doğruluğu\n",
    "    print(\"Eğitim doğruluğu: {} %\".format(100 - np.mean(np.abs(y_prediction_train - y_train)) * 100))\n",
    "    print(\"Test doğruluğu: {} %\".format(100 - np.mean(np.abs(y_prediction_test - y_test)) * 100))\n",
    "    \n",
    "    return parameters  \n",
    "  \n",
    "parameters = ikiKatmanNN(x_egitim, y_egitim, x_test, y_test, num_iterations=1000)\n"
   ]
  },
  {
   "cell_type": "code",
   "execution_count": null,
   "metadata": {},
   "outputs": [],
   "source": []
  },
  {
   "cell_type": "code",
   "execution_count": null,
   "metadata": {},
   "outputs": [],
   "source": []
  },
  {
   "cell_type": "code",
   "execution_count": null,
   "metadata": {},
   "outputs": [],
   "source": []
  }
 ],
 "metadata": {
  "kernelspec": {
   "display_name": "Python 3",
   "language": "python",
   "name": "python3"
  },
  "language_info": {
   "codemirror_mode": {
    "name": "ipython",
    "version": 3
   },
   "file_extension": ".py",
   "mimetype": "text/x-python",
   "name": "python",
   "nbconvert_exporter": "python",
   "pygments_lexer": "ipython3",
   "version": "3.10.12"
  }
 },
 "nbformat": 4,
 "nbformat_minor": 2
}
